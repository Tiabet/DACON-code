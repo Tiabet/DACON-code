{
 "cells": [
  {
   "cell_type": "code",
   "execution_count": 3,
   "id": "c0a368fd-5ea0-4f9e-bffc-064d893f6252",
   "metadata": {},
   "outputs": [
    {
     "name": "stdout",
     "output_type": "stream",
     "text": [
      "Epoch 1/10\n",
      "1185/1185 [==============================] - 83s 70ms/step - loss: -19783.8086 - accuracy: 0.2305 - val_loss: -75961.0859 - val_accuracy: 0.2358\n",
      "Epoch 2/10\n",
      "1185/1185 [==============================] - 84s 71ms/step - loss: -257958.5938 - accuracy: 0.2301 - val_loss: -501052.5000 - val_accuracy: 0.2358\n",
      "Epoch 3/10\n",
      "1185/1185 [==============================] - 85s 72ms/step - loss: -928969.3125 - accuracy: 0.2301 - val_loss: -1406202.5000 - val_accuracy: 0.2358\n",
      "Epoch 4/10\n",
      "1185/1185 [==============================] - 86s 72ms/step - loss: -2128067.2500 - accuracy: 0.2301 - val_loss: -2864403.2500 - val_accuracy: 0.2358\n",
      "Epoch 5/10\n",
      "1185/1185 [==============================] - 86s 73ms/step - loss: -3929950.7500 - accuracy: 0.2301 - val_loss: -4944118.5000 - val_accuracy: 0.2358\n",
      "Epoch 6/10\n",
      "1185/1185 [==============================] - 86s 73ms/step - loss: -6402513.0000 - accuracy: 0.2301 - val_loss: -7716052.5000 - val_accuracy: 0.2358\n",
      "Epoch 7/10\n",
      "1185/1185 [==============================] - 86s 73ms/step - loss: -9612965.0000 - accuracy: 0.2301 - val_loss: -11233155.0000 - val_accuracy: 0.2358\n",
      "Epoch 8/10\n",
      "1185/1185 [==============================] - 86s 73ms/step - loss: -13608590.0000 - accuracy: 0.2301 - val_loss: -15555469.0000 - val_accuracy: 0.2358\n",
      "Epoch 9/10\n",
      "1185/1185 [==============================] - 86s 73ms/step - loss: -18489022.0000 - accuracy: 0.2301 - val_loss: -20793990.0000 - val_accuracy: 0.2358\n",
      "Epoch 10/10\n",
      "1185/1185 [==============================] - 87s 73ms/step - loss: -24351626.0000 - accuracy: 0.2301 - val_loss: -27044978.0000 - val_accuracy: 0.2358\n",
      "2605/2605 [==============================] - 3s 1ms/step\n",
      "297/297 [==============================] - 0s 1ms/step\n",
      "Validation F1 (macro): 0.04769526248399488\n"
     ]
    }
   ],
   "source": [
    "import pandas as pd\n",
    "import numpy as np\n",
    "from sklearn.model_selection import train_test_split\n",
    "from sklearn.metrics import f1_score\n",
    "from keras.preprocessing.text import Tokenizer\n",
    "from keras_preprocessing.sequence import pad_sequences\n",
    "from keras.models import Sequential\n",
    "from keras.layers import Embedding, Flatten, Dense\n",
    "\n",
    "# Load the train and test data\n",
    "train_df = pd.read_csv('train.csv')\n",
    "test_df = pd.read_csv('test.csv')\n",
    "\n",
    "# Split the train data into train and validation sets\n",
    "X_train, X_val, y_train, y_val = train_test_split(train_df['text'], train_df['label'], test_size=0.2, random_state=42)\n",
    "\n",
    "# Tokenize the text data\n",
    "tokenizer = Tokenizer()\n",
    "tokenizer.fit_on_texts(X_train)\n",
    "X_train = tokenizer.texts_to_sequences(X_train)\n",
    "X_val = tokenizer.texts_to_sequences(X_val)\n",
    "X_test = tokenizer.texts_to_sequences(test_df['text'])\n",
    "\n",
    "# Pad the sequences to a fixed length\n",
    "maxlen = 100\n",
    "X_train = pad_sequences(X_train, maxlen=maxlen)\n",
    "X_val = pad_sequences(X_val, maxlen=maxlen)\n",
    "X_test = pad_sequences(X_test, maxlen=maxlen)\n",
    "\n",
    "# Create the model\n",
    "model = Sequential()\n",
    "model.add(Embedding(input_dim=len(tokenizer.word_index)+1, output_dim=32, input_length=maxlen))\n",
    "model.add(Flatten())\n",
    "model.add(Dense(16, activation='relu'))\n",
    "model.add(Dense(1, activation='sigmoid'))\n",
    "model.compile(optimizer='adam', loss='binary_crossentropy', metrics=['accuracy'])\n",
    "\n",
    "# Train the model\n",
    "model.fit(X_train, y_train, epochs=10, batch_size=32, validation_data=(X_val, y_val))\n",
    "\n",
    "# Make predictions on the test data\n",
    "y_pred_prob = model.predict(X_test)\n",
    "y_pred = np.round(y_pred_prob).astype(int).flatten()\n",
    "\n",
    "# Write the predicted labels to the submission file\n",
    "submission_df = pd.DataFrame({'id': test_df['id'], 'label': y_pred})\n",
    "submission_df.to_csv('submission.csv', index=False)\n",
    "\n",
    "# Evaluate the model on the validation data\n",
    "y_val_pred_prob = model.predict(X_val)\n",
    "y_val_pred = np.round(y_val_pred_prob).astype(int).flatten()\n",
    "f1_macro = f1_score(y_val, y_val_pred, average='macro')\n",
    "print('Validation F1 (macro):', f1_macro)\n"
   ]
  },
  {
   "cell_type": "code",
   "execution_count": null,
   "id": "2975cf40-4a14-4d8f-8d4d-4c64ff6d55d8",
   "metadata": {},
   "outputs": [],
   "source": []
  }
 ],
 "metadata": {
  "kernelspec": {
   "display_name": "Python 3 (ipykernel)",
   "language": "python",
   "name": "python3"
  },
  "language_info": {
   "codemirror_mode": {
    "name": "ipython",
    "version": 3
   },
   "file_extension": ".py",
   "mimetype": "text/x-python",
   "name": "python",
   "nbconvert_exporter": "python",
   "pygments_lexer": "ipython3",
   "version": "3.9.13"
  }
 },
 "nbformat": 4,
 "nbformat_minor": 5
}
