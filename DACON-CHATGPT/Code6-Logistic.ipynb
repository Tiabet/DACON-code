{
 "cells": [
  {
   "cell_type": "code",
   "execution_count": 3,
   "id": "73eb324a-770a-4c93-843e-125ada756b8b",
   "metadata": {},
   "outputs": [],
   "source": [
    "import pandas as pd\n",
    "from sklearn.feature_extraction.text import CountVectorizer\n",
    "from sklearn.linear_model import LogisticRegression\n",
    "from sklearn.preprocessing import StandardScaler\n",
    "\n",
    "# Load the training data\n",
    "train_data = pd.read_csv('train.csv')\n",
    "X_train = train_data['text']\n",
    "y_train = train_data['label']\n",
    "\n",
    "# Preprocess the text data\n",
    "vectorizer = CountVectorizer(stop_words='english')\n",
    "X_train = vectorizer.fit_transform(X_train)\n",
    "\n",
    "# Scale the data\n",
    "scaler = StandardScaler(with_mean=False)\n",
    "X_train = scaler.fit_transform(X_train)\n",
    "\n",
    "# Train a logistic regression model with more iterations\n",
    "clf = LogisticRegression(max_iter=10000)\n",
    "clf.fit(X_train, y_train)\n",
    "\n",
    "# Load the test data and preprocess it\n",
    "test_data = pd.read_csv('test.csv')\n",
    "X_test = test_data['text']\n",
    "X_test = vectorizer.transform(X_test)\n",
    "X_test = scaler.transform(X_test)\n",
    "\n",
    "# Predict the labels and write them to the submission file\n",
    "y_pred = clf.predict(X_test)\n",
    "submission_data = pd.read_csv('submission.csv')\n",
    "submission_data['label'] = y_pred\n",
    "submission_data.to_csv('submission.csv', index=False)\n"
   ]
  },
  {
   "cell_type": "code",
   "execution_count": null,
   "id": "dfdbb531-84a5-41be-806d-b0d556f19728",
   "metadata": {},
   "outputs": [],
   "source": []
  }
 ],
 "metadata": {
  "kernelspec": {
   "display_name": "Python 3 (ipykernel)",
   "language": "python",
   "name": "python3"
  },
  "language_info": {
   "codemirror_mode": {
    "name": "ipython",
    "version": 3
   },
   "file_extension": ".py",
   "mimetype": "text/x-python",
   "name": "python",
   "nbconvert_exporter": "python",
   "pygments_lexer": "ipython3",
   "version": "3.9.13"
  }
 },
 "nbformat": 4,
 "nbformat_minor": 5
}
