{
 "cells": [
  {
   "cell_type": "code",
   "execution_count": 2,
   "id": "4e71007d-793c-46c0-8be9-e3a277e478e0",
   "metadata": {},
   "outputs": [
    {
     "name": "stdout",
     "output_type": "stream",
     "text": [
      "Epoch 1/50\n",
      "593/593 [==============================] - 12s 16ms/step - loss: 0.6268 - accuracy: 0.8174 - val_loss: 0.3938 - val_accuracy: 0.8697\n",
      "Epoch 2/50\n",
      "593/593 [==============================] - 9s 16ms/step - loss: 0.3100 - accuracy: 0.8961 - val_loss: 0.3504 - val_accuracy: 0.8780\n",
      "Epoch 3/50\n",
      "593/593 [==============================] - 9s 16ms/step - loss: 0.2358 - accuracy: 0.9217 - val_loss: 0.3443 - val_accuracy: 0.8800\n",
      "Epoch 4/50\n",
      "593/593 [==============================] - 10s 16ms/step - loss: 0.1889 - accuracy: 0.9375 - val_loss: 0.3508 - val_accuracy: 0.8796\n",
      "Epoch 5/50\n",
      "593/593 [==============================] - 10s 17ms/step - loss: 0.1504 - accuracy: 0.9517 - val_loss: 0.3634 - val_accuracy: 0.8783\n",
      "Epoch 6/50\n",
      "593/593 [==============================] - 9s 16ms/step - loss: 0.1203 - accuracy: 0.9629 - val_loss: 0.3829 - val_accuracy: 0.8763\n",
      "2605/2605 [==============================] - 7s 2ms/step\n"
     ]
    }
   ],
   "source": [
    "import pandas as pd\n",
    "from sklearn.model_selection import train_test_split\n",
    "from sklearn.feature_extraction.text import TfidfVectorizer\n",
    "from keras.models import Sequential\n",
    "from keras.layers import Dense, Dropout\n",
    "from keras.callbacks import EarlyStopping\n",
    "\n",
    "# Load the data\n",
    "df_train = pd.read_csv('train.csv')\n",
    "df_test = pd.read_csv('test.csv')\n",
    "\n",
    "# Split the data into training and validation sets\n",
    "X_train, X_val, y_train, y_val = train_test_split(df_train['text'], df_train['label'], test_size=0.2, random_state=42)\n",
    "\n",
    "# Vectorize the text data using TF-IDF\n",
    "tfidf = TfidfVectorizer(stop_words='english', max_features=5000)\n",
    "X_train_vec = tfidf.fit_transform(X_train).toarray()\n",
    "X_val_vec = tfidf.transform(X_val).toarray()\n",
    "\n",
    "# Define the neural network model\n",
    "model = Sequential()\n",
    "model.add(Dense(256, activation='relu', input_dim=X_train_vec.shape[1]))\n",
    "model.add(Dropout(0.5))\n",
    "model.add(Dense(8, activation='softmax'))\n",
    "\n",
    "# Compile the model\n",
    "model.compile(loss='categorical_crossentropy', optimizer='adam', metrics=['accuracy'])\n",
    "\n",
    "# Define early stopping\n",
    "early_stopping = EarlyStopping(monitor='val_loss', patience=3)\n",
    "\n",
    "# Train the model\n",
    "model.fit(X_train_vec, pd.get_dummies(y_train), epochs=50, batch_size=64, validation_data=(X_val_vec, pd.get_dummies(y_val)), callbacks=[early_stopping])\n",
    "\n",
    "# Load the test data\n",
    "X_test_vec = tfidf.transform(df_test['text']).toarray()\n",
    "\n",
    "# Make predictions on the test data\n",
    "y_pred_prob = model.predict(X_test_vec)\n",
    "y_pred = y_pred_prob.argmax(axis=1)\n",
    "\n",
    "# Save the predictions to a CSV file\n",
    "submission_df = pd.DataFrame({'id': df_test['id'], 'label': y_pred})\n",
    "submission_df.to_csv('submission.csv', index=False)\n",
    "\n"
   ]
  }
 ],
 "metadata": {
  "kernelspec": {
   "display_name": "Python 3 (ipykernel)",
   "language": "python",
   "name": "python3"
  },
  "language_info": {
   "codemirror_mode": {
    "name": "ipython",
    "version": 3
   },
   "file_extension": ".py",
   "mimetype": "text/x-python",
   "name": "python",
   "nbconvert_exporter": "python",
   "pygments_lexer": "ipython3",
   "version": "3.9.13"
  }
 },
 "nbformat": 4,
 "nbformat_minor": 5
}
