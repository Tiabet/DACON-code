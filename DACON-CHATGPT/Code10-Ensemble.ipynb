{
 "cells": [
  {
   "cell_type": "code",
   "execution_count": 4,
   "id": "20613b94-417b-492f-aa8d-87ce95b27cbe",
   "metadata": {},
   "outputs": [
    {
     "ename": "TypeError",
     "evalue": "All intermediate steps should be transformers and implement fit and transform or be the string 'passthrough' 'LGBMClassifier()' (type <class 'lightgbm.sklearn.LGBMClassifier'>) doesn't",
     "output_type": "error",
     "traceback": [
      "\u001b[1;31m---------------------------------------------------------------------------\u001b[0m",
      "\u001b[1;31mTypeError\u001b[0m                                 Traceback (most recent call last)",
      "\u001b[1;32m~\\AppData\\Local\\Temp\\ipykernel_18632\\463776563.py\u001b[0m in \u001b[0;36m<module>\u001b[1;34m\u001b[0m\n\u001b[0;32m     36\u001b[0m \u001b[1;33m\u001b[0m\u001b[0m\n\u001b[0;32m     37\u001b[0m \u001b[1;31m# Create ensemble model\u001b[0m\u001b[1;33m\u001b[0m\u001b[1;33m\u001b[0m\u001b[0m\n\u001b[1;32m---> 38\u001b[1;33m ensemble_model = Pipeline([\n\u001b[0m\u001b[0;32m     39\u001b[0m     ('features', FeatureUnion([\n\u001b[0;32m     40\u001b[0m         \u001b[1;33m(\u001b[0m\u001b[1;34m'count_lgbm'\u001b[0m\u001b[1;33m,\u001b[0m \u001b[0mCountVectorizer\u001b[0m\u001b[1;33m(\u001b[0m\u001b[1;33m)\u001b[0m\u001b[1;33m)\u001b[0m\u001b[1;33m,\u001b[0m\u001b[1;33m\u001b[0m\u001b[1;33m\u001b[0m\u001b[0m\n",
      "\u001b[1;32mC:\\Anaconda\\lib\\site-packages\\sklearn\\pipeline.py\u001b[0m in \u001b[0;36m__init__\u001b[1;34m(self, steps, memory, verbose)\u001b[0m\n\u001b[0;32m    146\u001b[0m         \u001b[0mself\u001b[0m\u001b[1;33m.\u001b[0m\u001b[0mmemory\u001b[0m \u001b[1;33m=\u001b[0m \u001b[0mmemory\u001b[0m\u001b[1;33m\u001b[0m\u001b[1;33m\u001b[0m\u001b[0m\n\u001b[0;32m    147\u001b[0m         \u001b[0mself\u001b[0m\u001b[1;33m.\u001b[0m\u001b[0mverbose\u001b[0m \u001b[1;33m=\u001b[0m \u001b[0mverbose\u001b[0m\u001b[1;33m\u001b[0m\u001b[1;33m\u001b[0m\u001b[0m\n\u001b[1;32m--> 148\u001b[1;33m         \u001b[0mself\u001b[0m\u001b[1;33m.\u001b[0m\u001b[0m_validate_steps\u001b[0m\u001b[1;33m(\u001b[0m\u001b[1;33m)\u001b[0m\u001b[1;33m\u001b[0m\u001b[1;33m\u001b[0m\u001b[0m\n\u001b[0m\u001b[0;32m    149\u001b[0m \u001b[1;33m\u001b[0m\u001b[0m\n\u001b[0;32m    150\u001b[0m     \u001b[1;32mdef\u001b[0m \u001b[0mget_params\u001b[0m\u001b[1;33m(\u001b[0m\u001b[0mself\u001b[0m\u001b[1;33m,\u001b[0m \u001b[0mdeep\u001b[0m\u001b[1;33m=\u001b[0m\u001b[1;32mTrue\u001b[0m\u001b[1;33m)\u001b[0m\u001b[1;33m:\u001b[0m\u001b[1;33m\u001b[0m\u001b[1;33m\u001b[0m\u001b[0m\n",
      "\u001b[1;32mC:\\Anaconda\\lib\\site-packages\\sklearn\\pipeline.py\u001b[0m in \u001b[0;36m_validate_steps\u001b[1;34m(self)\u001b[0m\n\u001b[0;32m    205\u001b[0m                 \u001b[0mt\u001b[0m\u001b[1;33m,\u001b[0m \u001b[1;34m\"transform\"\u001b[0m\u001b[1;33m\u001b[0m\u001b[1;33m\u001b[0m\u001b[0m\n\u001b[0;32m    206\u001b[0m             ):\n\u001b[1;32m--> 207\u001b[1;33m                 raise TypeError(\n\u001b[0m\u001b[0;32m    208\u001b[0m                     \u001b[1;34m\"All intermediate steps should be \"\u001b[0m\u001b[1;33m\u001b[0m\u001b[1;33m\u001b[0m\u001b[0m\n\u001b[0;32m    209\u001b[0m                     \u001b[1;34m\"transformers and implement fit and transform \"\u001b[0m\u001b[1;33m\u001b[0m\u001b[1;33m\u001b[0m\u001b[0m\n",
      "\u001b[1;31mTypeError\u001b[0m: All intermediate steps should be transformers and implement fit and transform or be the string 'passthrough' 'LGBMClassifier()' (type <class 'lightgbm.sklearn.LGBMClassifier'>) doesn't"
     ]
    }
   ],
   "source": [
    "import pandas as pd\n",
    "import numpy as np\n",
    "import re\n",
    "import nltk\n",
    "from nltk.corpus import stopwords\n",
    "from sklearn.feature_extraction.text import CountVectorizer, TfidfTransformer\n",
    "from sklearn.pipeline import Pipeline, FeatureUnion\n",
    "from sklearn.model_selection import train_test_split\n",
    "from sklearn.metrics import f1_score\n",
    "import lightgbm as lgb\n",
    "from sklearn.ensemble import RandomForestClassifier\n",
    "import xgboost as xgb\n",
    "from catboost import CatBoostClassifier\n",
    "from regex import compile\n",
    "from multiprocessing import Pool\n",
    "\n",
    "# Load data\n",
    "train_df = pd.read_csv('train.csv')\n",
    "test_df = pd.read_csv('test.csv')\n",
    "\n",
    "# Convert text to numerical representation\n",
    "count_vect = CountVectorizer()\n",
    "tfidf_transformer = TfidfTransformer()\n",
    "\n",
    "X_train_counts = count_vect.fit_transform(train_df['text'])\n",
    "X_train_tfidf = tfidf_transformer.fit_transform(X_train_counts)\n",
    "\n",
    "# Split data into train and validation sets\n",
    "X_train, X_val, y_train, y_val = train_test_split(X_train_tfidf, train_df['label'], test_size=0.2, random_state=42)\n",
    "\n",
    "# Define models\n",
    "lgbm_model = lgb.LGBMClassifier()\n",
    "rf_model = RandomForestClassifier()\n",
    "xgb_model = xgb.XGBClassifier()\n",
    "catboost_model = CatBoostClassifier()\n",
    "\n",
    "# Create ensemble model\n",
    "ensemble_model = Pipeline([\n",
    "    ('features', FeatureUnion([\n",
    "        ('count_lgbm', CountVectorizer()),\n",
    "        ('tfidf_lgbm', TfidfTransformer()),\n",
    "        ('count_rf', CountVectorizer()),\n",
    "        ('tfidf_rf', TfidfTransformer()),\n",
    "        ('count_xgb', CountVectorizer()),\n",
    "        ('tfidf_xgb', TfidfTransformer()),\n",
    "        ('count_cat', CountVectorizer()),\n",
    "        ('tfidf_cat', TfidfTransformer())\n",
    "    ])),\n",
    "    ('clf_lgbm', lgbm_model),\n",
    "    ('clf_rf', rf_model),\n",
    "    ('clf_xgb', xgb_model),\n",
    "    ('clf_cat', catboost_model)\n",
    "])\n",
    "\n",
    "# Fit ensemble model on train data\n",
    "ensemble_model.fit(X_train, y_train)\n",
    "\n",
    "# Evaluate model on validation set\n",
    "y_pred = ensemble_model.predict(X_val)\n",
    "f1score = f1_score(y_val, y_pred, average='weighted')\n",
    "print(f1score)\n",
    "\n",
    "# Predict labels for test data\n",
    "X_test_counts = count_vect.transform(test_df['text'])\n",
    "X_test_tfidf = tfidf_transformer.transform(X_test_counts)\n",
    "y_test_pred = ensemble_model.predict(X_test_tfidf)\n",
    "\n",
    "# Save predictions to submission.csv\n",
    "submission_df = pd.DataFrame({'id': test_df['id'], 'label': y_test_pred})\n",
    "submission_df.to_csv('submission.csv', index=False)\n"
   ]
  },
  {
   "cell_type": "code",
   "execution_count": null,
   "id": "769880eb-5932-4ddb-9186-57a456e61829",
   "metadata": {},
   "outputs": [],
   "source": [
    "from nltk.corpus import stopwords\n",
    "STOPWORDS = set(stopwords.words('english'))\n",
    "STOPWORDS"
   ]
  }
 ],
 "metadata": {
  "kernelspec": {
   "display_name": "Python 3 (ipykernel)",
   "language": "python",
   "name": "python3"
  },
  "language_info": {
   "codemirror_mode": {
    "name": "ipython",
    "version": 3
   },
   "file_extension": ".py",
   "mimetype": "text/x-python",
   "name": "python",
   "nbconvert_exporter": "python",
   "pygments_lexer": "ipython3",
   "version": "3.9.13"
  }
 },
 "nbformat": 4,
 "nbformat_minor": 5
}
