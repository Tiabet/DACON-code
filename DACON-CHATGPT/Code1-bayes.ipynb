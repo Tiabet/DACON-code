{
 "cells": [
  {
   "cell_type": "code",
   "execution_count": 4,
   "id": "1493e08d-0dcd-4bdd-8546-5656b19adb93",
   "metadata": {},
   "outputs": [
    {
     "name": "stderr",
     "output_type": "stream",
     "text": [
      "C:\\Anaconda\\lib\\site-packages\\sklearn\\metrics\\_classification.py:1318: UndefinedMetricWarning: Precision and F-score are ill-defined and being set to 0.0 in labels with no predicted samples. Use `zero_division` parameter to control this behavior.\n",
      "  _warn_prf(average, modifier, msg_start, len(result))\n",
      "C:\\Anaconda\\lib\\site-packages\\sklearn\\metrics\\_classification.py:1318: UndefinedMetricWarning: Precision and F-score are ill-defined and being set to 0.0 in labels with no predicted samples. Use `zero_division` parameter to control this behavior.\n",
      "  _warn_prf(average, modifier, msg_start, len(result))\n",
      "C:\\Anaconda\\lib\\site-packages\\sklearn\\metrics\\_classification.py:1318: UndefinedMetricWarning: Precision and F-score are ill-defined and being set to 0.0 in labels with no predicted samples. Use `zero_division` parameter to control this behavior.\n",
      "  _warn_prf(average, modifier, msg_start, len(result))\n"
     ]
    },
    {
     "name": "stdout",
     "output_type": "stream",
     "text": [
      "Validation Accuracy: 0.7564345991561181\n",
      "Validation Classification Report:\n",
      "              precision    recall  f1-score   support\n",
      "\n",
      "           0       0.62      0.96      0.76      2839\n",
      "           1       0.93      0.95      0.94      2235\n",
      "           2       0.68      0.58      0.62      1866\n",
      "           3       0.99      0.71      0.83      1757\n",
      "           4       1.00      0.00      0.01       479\n",
      "           5       0.00      0.00      0.00       204\n",
      "           6       0.00      0.00      0.00        51\n",
      "           7       0.00      0.00      0.00        49\n",
      "\n",
      "    accuracy                           0.76      9480\n",
      "   macro avg       0.53      0.40      0.39      9480\n",
      "weighted avg       0.78      0.76      0.73      9480\n",
      "\n"
     ]
    }
   ],
   "source": [
    "import pandas as pd\n",
    "from sklearn.model_selection import train_test_split\n",
    "from sklearn.feature_extraction.text import TfidfVectorizer\n",
    "from sklearn.naive_bayes import MultinomialNB\n",
    "from sklearn.metrics import accuracy_score, classification_report\n",
    "\n",
    "# Load the training data\n",
    "train_df = pd.read_csv('train.csv')\n",
    "\n",
    "# Preprocess the text data\n",
    "# Perform tokenization, stop-word removal, and stemming/lemmatization as needed\n",
    "\n",
    "# Split the training data into training and validation sets\n",
    "X_train, X_val, y_train, y_val = train_test_split(train_df['text'], train_df['label'], test_size=0.2, random_state=42)\n",
    "\n",
    "# Extract features from the preprocessed text data\n",
    "vectorizer = TfidfVectorizer()\n",
    "X_train_vec = vectorizer.fit_transform(X_train)\n",
    "X_val_vec = vectorizer.transform(X_val)\n",
    "\n",
    "# Train a Multinomial Naive Bayes classifier\n",
    "clf = MultinomialNB()\n",
    "clf.fit(X_train_vec, y_train)\n",
    "\n",
    "# Make predictions on the validation set\n",
    "y_val_pred = clf.predict(X_val_vec)\n",
    "\n",
    "# Evaluate the performance of the model on the validation set\n",
    "acc = accuracy_score(y_val, y_val_pred)\n",
    "report = classification_report(y_val, y_val_pred)\n",
    "print(f\"Validation Accuracy: {acc}\")\n",
    "print(f\"Validation Classification Report:\\n{report}\")\n",
    "\n",
    "# Load the test data\n",
    "test_df = pd.read_csv('test.csv')\n",
    "\n",
    "# Preprocess the text data for the test data\n",
    "# Perform tokenization, stop-word removal, and stemming/lemmatization as needed\n",
    "\n",
    "# Extract features from the preprocessed test data\n",
    "X_test_vec = vectorizer.transform(test_df['text'])\n",
    "\n",
    "# Make predictions on the test data\n",
    "y_test_pred = clf.predict(X_test_vec)\n",
    "\n",
    "# Write the predicted labels to the submission file\n",
    "submission_df = pd.DataFrame({'id': test_df['id'], 'label': y_test_pred})\n",
    "submission_df.to_csv('submission.csv', index=False)\n"
   ]
  },
  {
   "cell_type": "code",
   "execution_count": null,
   "id": "a35f29fe-eaec-4483-b2df-4c23572cc093",
   "metadata": {},
   "outputs": [],
   "source": []
  }
 ],
 "metadata": {
  "kernelspec": {
   "display_name": "Python 3 (ipykernel)",
   "language": "python",
   "name": "python3"
  },
  "language_info": {
   "codemirror_mode": {
    "name": "ipython",
    "version": 3
   },
   "file_extension": ".py",
   "mimetype": "text/x-python",
   "name": "python",
   "nbconvert_exporter": "python",
   "pygments_lexer": "ipython3",
   "version": "3.9.13"
  }
 },
 "nbformat": 4,
 "nbformat_minor": 5
}
