{
 "cells": [
  {
   "cell_type": "code",
   "execution_count": 1,
   "id": "75ced15a-d320-4a14-a9cf-17bce506769d",
   "metadata": {},
   "outputs": [
    {
     "name": "stdout",
     "output_type": "stream",
     "text": [
      "F1 score: 0.8179277235184726\n"
     ]
    }
   ],
   "source": [
    "import pandas as pd\n",
    "import numpy as np\n",
    "import nltk\n",
    "from nltk.corpus import stopwords\n",
    "from nltk.tokenize import word_tokenize\n",
    "from sklearn.model_selection import train_test_split\n",
    "from sklearn.feature_extraction.text import CountVectorizer\n",
    "from sklearn.naive_bayes import MultinomialNB\n",
    "from sklearn.metrics import f1_score\n",
    "\n",
    "# Load the training data\n",
    "train_df = pd.read_csv('train.csv')\n",
    "\n",
    "# Define stop words\n",
    "stop_words = set(stopwords.words('english'))\n",
    "\n",
    "# Preprocess the text data\n",
    "def preprocess_text(text):\n",
    "    # Convert the text to lowercase\n",
    "    text = text.lower()\n",
    "    \n",
    "    # Tokenize the words\n",
    "    words = word_tokenize(text)\n",
    "    \n",
    "    # Remove stop words\n",
    "    filtered_words = [word for word in words if word not in stop_words]\n",
    "    \n",
    "    # Join the words back into a string\n",
    "    text = ' '.join(filtered_words)\n",
    "    \n",
    "    return text\n",
    "\n",
    "train_df['text'] = train_df['text'].apply(preprocess_text)\n",
    "\n",
    "# Split the data into training and validation sets\n",
    "X_train, X_val, y_train, y_val = train_test_split(train_df['text'], train_df['label'], test_size=0.2, random_state=42)\n",
    "\n",
    "# Vectorize the text data using the CountVectorizer\n",
    "vectorizer = CountVectorizer()\n",
    "X_train = vectorizer.fit_transform(X_train)\n",
    "X_val = vectorizer.transform(X_val)\n",
    "\n",
    "# Train the Naive Bayes model\n",
    "nb = MultinomialNB()\n",
    "nb.fit(X_train, y_train)\n",
    "\n",
    "# Make predictions on the validation set\n",
    "y_pred = nb.predict(X_val)\n",
    "\n",
    "# Evaluate the performance of the model using F1 score\n",
    "f1 = f1_score(y_val, y_pred, average='weighted')\n",
    "print('F1 score:', f1)\n",
    "\n",
    "# Preprocess the test data\n",
    "test_df = pd.read_csv('test.csv')\n",
    "test_df['text'] = test_df['text'].apply(preprocess_text)\n",
    "X_test = vectorizer.transform(test_df['text'])\n",
    "\n",
    "# Make predictions on the test data\n",
    "y_test_pred = nb.predict(X_test)\n",
    "\n",
    "# Create a submission file\n",
    "submission_df = pd.DataFrame({'id': test_df['id'], 'label': y_test_pred})\n",
    "submission_df.to_csv('submission.csv', index=False)\n"
   ]
  },
  {
   "cell_type": "code",
   "execution_count": null,
   "id": "6a215ee1-464b-4fb3-8e1a-0f8cf0afbe3e",
   "metadata": {},
   "outputs": [],
   "source": []
  }
 ],
 "metadata": {
  "kernelspec": {
   "display_name": "Python 3 (ipykernel)",
   "language": "python",
   "name": "python3"
  },
  "language_info": {
   "codemirror_mode": {
    "name": "ipython",
    "version": 3
   },
   "file_extension": ".py",
   "mimetype": "text/x-python",
   "name": "python",
   "nbconvert_exporter": "python",
   "pygments_lexer": "ipython3",
   "version": "3.9.13"
  }
 },
 "nbformat": 4,
 "nbformat_minor": 5
}
