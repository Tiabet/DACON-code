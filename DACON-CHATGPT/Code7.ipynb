{
 "cells": [
  {
   "cell_type": "code",
   "execution_count": 1,
   "id": "00de6c6d-ab5a-4c92-b2a1-61e4e113daad",
   "metadata": {},
   "outputs": [],
   "source": [
    "import re\n",
    "\n",
    "def preprocess_text(text):\n",
    "    # Remove any non-alphanumeric characters\n",
    "    text = re.sub(r'[^a-zA-Z0-9\\s]', '', text)\n",
    "\n",
    "    # Convert to lowercase\n",
    "    text = text.lower()\n",
    "\n",
    "    return text\n"
   ]
  },
  {
   "cell_type": "code",
   "execution_count": 2,
   "id": "94fe976b-8bd4-4d7e-b328-b1149f288428",
   "metadata": {},
   "outputs": [
    {
     "name": "stderr",
     "output_type": "stream",
     "text": [
      "C:\\Users\\kkksk\\AppData\\Local\\Temp\\ipykernel_8464\\1442258245.py:12: FutureWarning: The default value of regex will change from True to False in a future version.\n",
      "  df_train['text'] = df_train['text'].str.replace('[^\\w\\s]','') # remove punctuation\n",
      "C:\\Users\\kkksk\\AppData\\Local\\Temp\\ipykernel_8464\\1442258245.py:13: FutureWarning: The default value of regex will change from True to False in a future version.\n",
      "  df_test['text'] = df_test['text'].str.replace('[^\\w\\s]','') # remove punctuation\n",
      "C:\\Anaconda\\lib\\site-packages\\sklearn\\svm\\_base.py:1206: ConvergenceWarning: Liblinear failed to converge, increase the number of iterations.\n",
      "  warnings.warn(\n"
     ]
    },
    {
     "name": "stdout",
     "output_type": "stream",
     "text": [
      "F1 score: 0.7428007610640801\n"
     ]
    }
   ],
   "source": [
    "import pandas as pd\n",
    "from sklearn.feature_extraction.text import CountVectorizer\n",
    "from sklearn.model_selection import train_test_split\n",
    "from sklearn.svm import LinearSVC\n",
    "from sklearn.metrics import f1_score\n",
    "\n",
    "# Load the data\n",
    "df_train = pd.read_csv('train.csv')\n",
    "df_test = pd.read_csv('test.csv')\n",
    "\n",
    "# Preprocess the data\n",
    "df_train['text'] = df_train['text'].str.replace('[^\\w\\s]','') # remove punctuation\n",
    "df_test['text'] = df_test['text'].str.replace('[^\\w\\s]','') # remove punctuation\n",
    "\n",
    "# Split the data into training and validation sets\n",
    "train_data, val_data = train_test_split(df_train, test_size=0.2)\n",
    "\n",
    "# Vectorize the data\n",
    "vectorizer = CountVectorizer()\n",
    "X_train = vectorizer.fit_transform(train_data['text'])\n",
    "X_val = vectorizer.transform(val_data['text'])\n",
    "X_test = vectorizer.transform(df_test['text'])\n",
    "\n",
    "y_train = train_data['label']\n",
    "y_val = val_data['label']\n",
    "\n",
    "# Train the model\n",
    "model = LinearSVC()\n",
    "model.fit(X_train, y_train)\n",
    "\n",
    "# Make predictions on the validation set\n",
    "y_val_pred = model.predict(X_val)\n",
    "\n",
    "# Evaluate the performance of the model\n",
    "f1 = f1_score(y_val, y_val_pred, average='macro')\n",
    "print('F1 score:', f1)\n",
    "\n",
    "# Make predictions on the test set and save the results\n",
    "y_test_pred = model.predict(X_test)\n",
    "df_submission = pd.DataFrame({'id': df_test['id'], 'label': y_test_pred})\n",
    "df_submission.to_csv('submission.csv', index=False)\n"
   ]
  },
  {
   "cell_type": "code",
   "execution_count": null,
   "id": "b5409ef0-2a99-492d-9267-314a1c93675f",
   "metadata": {},
   "outputs": [],
   "source": [
    "# Preprocess the text data\n",
    "    train_data.loc[:,'text'] = train_data['text'].apply(preprocess_text)\n",
    "    val_data.loc[:,'text'] = val_data['text'].apply(preprocess_text)\n"
   ]
  }
 ],
 "metadata": {
  "kernelspec": {
   "display_name": "Python 3 (ipykernel)",
   "language": "python",
   "name": "python3"
  },
  "language_info": {
   "codemirror_mode": {
    "name": "ipython",
    "version": 3
   },
   "file_extension": ".py",
   "mimetype": "text/x-python",
   "name": "python",
   "nbconvert_exporter": "python",
   "pygments_lexer": "ipython3",
   "version": "3.9.13"
  }
 },
 "nbformat": 4,
 "nbformat_minor": 5
}
