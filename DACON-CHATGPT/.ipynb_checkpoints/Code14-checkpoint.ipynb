{
 "cells": [
  {
   "cell_type": "code",
   "execution_count": 3,
   "id": "cdd5eced-bba7-4e20-b536-a525f6578a28",
   "metadata": {},
   "outputs": [
    {
     "name": "stdout",
     "output_type": "stream",
     "text": [
      "Validation accuracy: 0.8354430379746836\n"
     ]
    }
   ],
   "source": [
    "# Import necessary libraries\n",
    "import pandas as pd\n",
    "from sklearn.feature_extraction.text import TfidfVectorizer\n",
    "from sklearn.ensemble import RandomForestClassifier\n",
    "from sklearn.model_selection import train_test_split\n",
    "from sklearn.metrics import accuracy_score\n",
    "\n",
    "# Load data\n",
    "train_df = pd.read_csv(\"train.csv\")\n",
    "test_df = pd.read_csv(\"test.csv\")\n",
    "\n",
    "# Split data into features and labels\n",
    "X_train = train_df[\"text\"]\n",
    "y_train = train_df[\"label\"]\n",
    "X_test = test_df[\"text\"]\n",
    "\n",
    "# Vectorize features using TF-IDF\n",
    "vectorizer = TfidfVectorizer(stop_words=\"english\")\n",
    "X_train = vectorizer.fit_transform(X_train)\n",
    "X_test = vectorizer.transform(X_test)\n",
    "\n",
    "# Split training data into training and validation sets\n",
    "train_features, val_features, train_label, val_label = train_test_split(X_train, y_train, test_size=0.2, random_state=42)\n",
    "\n",
    "# Train Random Forest classifier\n",
    "rf = RandomForestClassifier(n_estimators=100, random_state=42)\n",
    "rf.fit(train_features, train_label)\n",
    "\n",
    "# Make predictions on validation set\n",
    "val_pred = rf.predict(val_features)\n",
    "\n",
    "# Evaluate accuracy on validation set\n",
    "val_accuracy = accuracy_score(val_label, val_pred)\n",
    "print(\"Validation accuracy:\", val_accuracy)\n",
    "\n",
    "# Make predictions on test data\n",
    "test_pred = rf.predict(X_test)\n",
    "\n",
    "# Save predictions to submission file\n",
    "submission_df = pd.DataFrame({\"id\": test_df[\"id\"], \"label\": test_pred})\n",
    "submission_df.to_csv(\"submission.csv\", index=False)\n"
   ]
  },
  {
   "cell_type": "code",
   "execution_count": null,
   "id": "0ce9772f-545a-46a6-87c9-78c138b1649e",
   "metadata": {},
   "outputs": [],
   "source": []
  }
 ],
 "metadata": {
  "kernelspec": {
   "display_name": "Python 3 (ipykernel)",
   "language": "python",
   "name": "python3"
  },
  "language_info": {
   "codemirror_mode": {
    "name": "ipython",
    "version": 3
   },
   "file_extension": ".py",
   "mimetype": "text/x-python",
   "name": "python",
   "nbconvert_exporter": "python",
   "pygments_lexer": "ipython3",
   "version": "3.9.13"
  }
 },
 "nbformat": 4,
 "nbformat_minor": 5
}
