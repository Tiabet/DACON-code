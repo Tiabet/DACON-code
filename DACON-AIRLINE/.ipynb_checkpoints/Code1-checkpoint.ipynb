{
 "cells": [
  {
   "cell_type": "code",
   "execution_count": 1,
   "id": "e09b46ac-9260-40f9-82db-c7ba081e634d",
   "metadata": {},
   "outputs": [
    {
     "name": "stdout",
     "output_type": "stream",
     "text": [
      "train Done.\n",
      "test Done.\n"
     ]
    }
   ],
   "source": [
    "import pandas as pd\n",
    "import numpy as np\n",
    "import random\n",
    "import os\n",
    "import gc\n",
    "\n",
    "from sklearn.ensemble import RandomForestClassifier\n",
    "from sklearn.preprocessing import LabelEncoder, StandardScaler\n",
    "from sklearn.metrics import roc_auc_score\n",
    "from sklearn.model_selection import StratifiedKFold\n",
    "\n",
    "def seed_everything(seed):\n",
    "    random.seed(seed)\n",
    "    os.environ['PYTHONHASHSEED'] = str(seed)\n",
    "    np.random.seed(seed)\n",
    "seed_everything(42)\n",
    "\n",
    "def csv_to_parquet(csv_path, save_name):\n",
    "    df = pd.read_csv(csv_path)\n",
    "    df.to_parquet(f'./{save_name}.parquet')\n",
    "    del df\n",
    "    gc.collect()\n",
    "    print(save_name, 'Done.')\n",
    "\n",
    "csv_to_parquet('./train.csv', 'train')\n",
    "csv_to_parquet('./test.csv', 'test')\n",
    "\n",
    "train = pd.read_parquet('./train.parquet')\n",
    "test = pd.read_parquet('./test.parquet')\n",
    "sample_submission = pd.read_csv('sample_submission.csv', index_col = 0)\n",
    "\n",
    "# Preprocessing\n",
    "NaN_col = ['Origin_State','Destination_State','Airline','Estimated_Departure_Time', 'Estimated_Arrival_Time','Carrier_Code(IATA)','Carrier_ID(DOT)']\n",
    "for col in NaN_col:\n",
    "    mode = train[col].mode()[0]\n",
    "    train[col] = train[col].fillna(mode)\n",
    "    if col in test.columns:\n",
    "        test[col] = test[col].fillna(mode)\n",
    "\n",
    "qual_col = ['Origin_Airport', 'Origin_State', 'Destination_Airport', 'Destination_State', 'Airline', 'Carrier_Code(IATA)', 'Tail_Number']\n",
    "for i in qual_col:\n",
    "    le = LabelEncoder()\n",
    "    le=le.fit(train[i])\n",
    "    train[i]=le.transform(train[i])\n",
    "    for label in np.unique(test[i]):\n",
    "        if label not in le.classes_: \n",
    "            le.classes_ = np.append(le.classes_, label)\n",
    "    test[i]=le.transform(test[i])\n"
   ]
  },
  {
   "cell_type": "code",
   "execution_count": 3,
   "id": "406db2d2-9a1d-4094-b87b-cacfad327837",
   "metadata": {},
   "outputs": [
    {
     "name": "stdout",
     "output_type": "stream",
     "text": [
      "Fold 0 - ROC AUC: 0.6408576488919575\n",
      "Fold 1 - ROC AUC: 0.6392094947089948\n",
      "Fold 2 - ROC AUC: 0.6369136402116402\n",
      "Fold 3 - ROC AUC: 0.6371019537037038\n",
      "Fold 4 - ROC AUC: 0.6389656507936508\n"
     ]
    }
   ],
   "source": [
    "# Feature Engineering\n",
    "train = train.dropna()\n",
    "train['is_Delayed'] = np.where(train['Delay']==\"Not_Delayed\", 1, 0)\n",
    "\n",
    "# Model Training\n",
    "X = train.drop(['ID','Delay', 'is_Delayed'], axis=1)\n",
    "y = train['is_Delayed']\n",
    "test = test.drop(['ID'], axis=1)\n",
    "\n",
    "skf = StratifiedKFold(n_splits=5, shuffle=True, random_state=42)\n",
    "\n",
    "models = []\n",
    "for fold, (train_index, val_index) in enumerate(skf.split(X, y)):\n",
    "    X_train, X_val = X.iloc[train_index], X.iloc[val_index]\n",
    "    y_train, y_val = y.iloc[train_index], y.iloc[val_index]\n",
    "\n",
    "    rf = RandomForestClassifier(n_estimators=100, max_depth=20, random_state=42)\n",
    "    rf.fit(X_train, y_train)\n",
    "\n",
    "    val_preds = rf.predict_proba(X_val)[:,1]\n",
    "    val_score = roc_auc_score(y_val, val_preds)\n",
    "\n",
    "    print(f\"Fold {fold} - ROC AUC: {val_score}\")\n",
    "\n",
    "    models.append(rf)\n",
    "\n",
    "# Predictions on test data\n",
    "test_preds = np.zeros((len(test), 2))\n",
    "for model in models:\n",
    "    test_preds += model.predict_proba(test) / len(models)\n",
    "\n",
    "# Create submission file\n",
    "test1 = pd.read_parquet('./test.parquet')\n",
    "submission = pd.DataFrame({\"ID\": test1[\"ID\"], \"Not_Delayed\": test_preds[:,0], \"Delayed\": test_preds[:,1]})\n",
    "submission.to_csv(\"submission.csv\", index=False)\n",
    "print(\"Finished\")"
   ]
  },
  {
   "cell_type": "code",
   "execution_count": null,
   "id": "b166e7cb-72a5-4275-9ba0-27e3b38a4cb8",
   "metadata": {},
   "outputs": [],
   "source": []
  }
 ],
 "metadata": {
  "kernelspec": {
   "display_name": "Python 3 (ipykernel)",
   "language": "python",
   "name": "python3"
  },
  "language_info": {
   "codemirror_mode": {
    "name": "ipython",
    "version": 3
   },
   "file_extension": ".py",
   "mimetype": "text/x-python",
   "name": "python",
   "nbconvert_exporter": "python",
   "pygments_lexer": "ipython3",
   "version": "3.9.13"
  }
 },
 "nbformat": 4,
 "nbformat_minor": 5
}
